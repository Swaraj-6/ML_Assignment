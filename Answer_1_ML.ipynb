{
 "cells": [
  {
   "cell_type": "code",
   "execution_count": null,
   "id": "ce1898a5",
   "metadata": {
    "papermill": {
     "duration": 0.008092,
     "end_time": "2023-06-04T06:52:42.021930",
     "exception": false,
     "start_time": "2023-06-04T06:52:42.013838",
     "status": "completed"
    },
    "tags": []
   },
   "outputs": [],
   "source": []
  },
  {
   "cell_type": "code",
   "execution_count": 1,
   "id": "acfd2411",
   "metadata": {
    "_cell_guid": "b1076dfc-b9ad-4769-8c92-a6c4dae69d19",
    "_uuid": "8f2839f25d086af736a60e9eeb907d3b93b6e0e5",
    "execution": {
     "iopub.execute_input": "2023-06-04T06:52:42.038938Z",
     "iopub.status.busy": "2023-06-04T06:52:42.038020Z",
     "iopub.status.idle": "2023-06-04T06:52:42.059314Z",
     "shell.execute_reply": "2023-06-04T06:52:42.058209Z"
    },
    "papermill": {
     "duration": 0.032891,
     "end_time": "2023-06-04T06:52:42.062188",
     "exception": false,
     "start_time": "2023-06-04T06:52:42.029297",
     "status": "completed"
    },
    "tags": []
   },
   "outputs": [
    {
     "name": "stdout",
     "output_type": "stream",
     "text": [
      "/kaggle/input/instagram-reach/instagram_reach.csv\n"
     ]
    }
   ],
   "source": [
    "# This Python 3 environment comes with many helpful analytics libraries installed\n",
    "# It is defined by the kaggle/python Docker image: https://github.com/kaggle/docker-python\n",
    "# For example, here's several helpful packages to load\n",
    "\n",
    "import numpy as np # linear algebra\n",
    "import pandas as pd # data processing, CSV file I/O (e.g. pd.read_csv)\n",
    "\n",
    "# Input data files are available in the read-only \"../input/\" directory\n",
    "# For example, running this (by clicking run or pressing Shift+Enter) will list all files under the input directory\n",
    "\n",
    "import os\n",
    "for dirname, _, filenames in os.walk('/kaggle/input'):\n",
    "    for filename in filenames:\n",
    "        print(os.path.join(dirname, filename))\n",
    "\n",
    "# You can write up to 20GB to the current directory (/kaggle/working/) that gets preserved as output when you create a version using \"Save & Run All\" \n",
    "# You can also write temporary files to /kaggle/temp/, but they won't be saved outside of the current session"
   ]
  },
  {
   "cell_type": "code",
   "execution_count": 2,
   "id": "17f42368",
   "metadata": {
    "execution": {
     "iopub.execute_input": "2023-06-04T06:52:42.078726Z",
     "iopub.status.busy": "2023-06-04T06:52:42.077907Z",
     "iopub.status.idle": "2023-06-04T06:52:42.107054Z",
     "shell.execute_reply": "2023-06-04T06:52:42.105792Z"
    },
    "papermill": {
     "duration": 0.040402,
     "end_time": "2023-06-04T06:52:42.109722",
     "exception": false,
     "start_time": "2023-06-04T06:52:42.069320",
     "status": "completed"
    },
    "tags": []
   },
   "outputs": [],
   "source": [
    "import pandas as pd\n",
    "\n",
    "df = pd.read_csv('/kaggle/input/instagram-reach/instagram_reach.csv')"
   ]
  },
  {
   "cell_type": "code",
   "execution_count": 3,
   "id": "7923b273",
   "metadata": {
    "execution": {
     "iopub.execute_input": "2023-06-04T06:52:42.126162Z",
     "iopub.status.busy": "2023-06-04T06:52:42.124981Z",
     "iopub.status.idle": "2023-06-04T06:52:42.167410Z",
     "shell.execute_reply": "2023-06-04T06:52:42.166404Z"
    },
    "papermill": {
     "duration": 0.052929,
     "end_time": "2023-06-04T06:52:42.169730",
     "exception": false,
     "start_time": "2023-06-04T06:52:42.116801",
     "status": "completed"
    },
    "tags": []
   },
   "outputs": [
    {
     "data": {
      "text/html": [
       "<div>\n",
       "<style scoped>\n",
       "    .dataframe tbody tr th:only-of-type {\n",
       "        vertical-align: middle;\n",
       "    }\n",
       "\n",
       "    .dataframe tbody tr th {\n",
       "        vertical-align: top;\n",
       "    }\n",
       "\n",
       "    .dataframe thead th {\n",
       "        text-align: right;\n",
       "    }\n",
       "</style>\n",
       "<table border=\"1\" class=\"dataframe\">\n",
       "  <thead>\n",
       "    <tr style=\"text-align: right;\">\n",
       "      <th></th>\n",
       "      <th>Unnamed: 0</th>\n",
       "      <th>S.No</th>\n",
       "      <th>USERNAME</th>\n",
       "      <th>Caption</th>\n",
       "      <th>Followers</th>\n",
       "      <th>Hashtags</th>\n",
       "      <th>Time since posted</th>\n",
       "      <th>Likes</th>\n",
       "    </tr>\n",
       "  </thead>\n",
       "  <tbody>\n",
       "    <tr>\n",
       "      <th>0</th>\n",
       "      <td>0</td>\n",
       "      <td>1</td>\n",
       "      <td>mikequindazzi</td>\n",
       "      <td>Who are #DataScientist and what do they do? &gt;&gt;...</td>\n",
       "      <td>1600</td>\n",
       "      <td>#MachineLearning #AI #DataAnalytics #DataScien...</td>\n",
       "      <td>11 hours</td>\n",
       "      <td>139</td>\n",
       "    </tr>\n",
       "    <tr>\n",
       "      <th>1</th>\n",
       "      <td>1</td>\n",
       "      <td>2</td>\n",
       "      <td>drgorillapaints</td>\n",
       "      <td>We all know where it’s going. We just have to ...</td>\n",
       "      <td>880</td>\n",
       "      <td>#deck .#mac #macintosh#sayhello #apple #steve...</td>\n",
       "      <td>2 hours</td>\n",
       "      <td>23</td>\n",
       "    </tr>\n",
       "    <tr>\n",
       "      <th>2</th>\n",
       "      <td>2</td>\n",
       "      <td>3</td>\n",
       "      <td>aitrading_official</td>\n",
       "      <td>Alexander Barinov: 4 years as CFO in multinati...</td>\n",
       "      <td>255</td>\n",
       "      <td>#whoiswho #aitrading #ai #aitradingteam#instat...</td>\n",
       "      <td>2 hours</td>\n",
       "      <td>25</td>\n",
       "    </tr>\n",
       "    <tr>\n",
       "      <th>3</th>\n",
       "      <td>3</td>\n",
       "      <td>4</td>\n",
       "      <td>opensourcedworkplace</td>\n",
       "      <td>sfad</td>\n",
       "      <td>340</td>\n",
       "      <td>#iot #cre#workplace #CDO #bigdata #technology#...</td>\n",
       "      <td>3 hours</td>\n",
       "      <td>49</td>\n",
       "    </tr>\n",
       "    <tr>\n",
       "      <th>4</th>\n",
       "      <td>4</td>\n",
       "      <td>5</td>\n",
       "      <td>crea.vision</td>\n",
       "      <td>Ever missed a call while your phone was chargi...</td>\n",
       "      <td>304</td>\n",
       "      <td>#instamachinelearning #instabigdata#instamarke...</td>\n",
       "      <td>3 hours</td>\n",
       "      <td>30</td>\n",
       "    </tr>\n",
       "    <tr>\n",
       "      <th>...</th>\n",
       "      <td>...</td>\n",
       "      <td>...</td>\n",
       "      <td>...</td>\n",
       "      <td>...</td>\n",
       "      <td>...</td>\n",
       "      <td>...</td>\n",
       "      <td>...</td>\n",
       "      <td>...</td>\n",
       "    </tr>\n",
       "    <tr>\n",
       "      <th>95</th>\n",
       "      <td>8</td>\n",
       "      <td>19</td>\n",
       "      <td>michaelgarza__</td>\n",
       "      <td>328 S. Wetherly Drive, Beverly Hills, CA 90212...</td>\n",
       "      <td>614</td>\n",
       "      <td>#beverlyhills #realestate#losangelesrealestate...</td>\n",
       "      <td>3 hours</td>\n",
       "      <td>31</td>\n",
       "    </tr>\n",
       "    <tr>\n",
       "      <th>96</th>\n",
       "      <td>9</td>\n",
       "      <td>21</td>\n",
       "      <td>dvlp_search</td>\n",
       "      <td>Credit @tristankappel To find more dvlp follow...</td>\n",
       "      <td>450</td>\n",
       "      <td>#workspace #work #developer#development #devel...</td>\n",
       "      <td>3 hours</td>\n",
       "      <td>42</td>\n",
       "    </tr>\n",
       "    <tr>\n",
       "      <th>97</th>\n",
       "      <td>10</td>\n",
       "      <td>22</td>\n",
       "      <td>ecom.space</td>\n",
       "      <td>We are coming up with the Best 21 Books that w...</td>\n",
       "      <td>182</td>\n",
       "      <td>#books #book #motivation #inspiration #life#bo...</td>\n",
       "      <td>3 hours</td>\n",
       "      <td>10</td>\n",
       "    </tr>\n",
       "    <tr>\n",
       "      <th>98</th>\n",
       "      <td>11</td>\n",
       "      <td>24</td>\n",
       "      <td>lb3enterprises</td>\n",
       "      <td>We’re only paid to move dirt once. It’s not ju...</td>\n",
       "      <td>2039</td>\n",
       "      <td>#heavyequipment #underconstruction#dozer #real...</td>\n",
       "      <td>3 hours</td>\n",
       "      <td>222</td>\n",
       "    </tr>\n",
       "    <tr>\n",
       "      <th>99</th>\n",
       "      <td>12</td>\n",
       "      <td>25</td>\n",
       "      <td>palmariusdev</td>\n",
       "      <td>Obtén tu tienda en línea ahora.</td>\n",
       "      <td>741</td>\n",
       "      <td>#marketing #programming#development #desarroll...</td>\n",
       "      <td>3 hours</td>\n",
       "      <td>109</td>\n",
       "    </tr>\n",
       "  </tbody>\n",
       "</table>\n",
       "<p>100 rows × 8 columns</p>\n",
       "</div>"
      ],
      "text/plain": [
       "    Unnamed: 0  S.No              USERNAME  \\\n",
       "0            0     1         mikequindazzi   \n",
       "1            1     2       drgorillapaints   \n",
       "2            2     3    aitrading_official   \n",
       "3            3     4  opensourcedworkplace   \n",
       "4            4     5           crea.vision   \n",
       "..         ...   ...                   ...   \n",
       "95           8    19        michaelgarza__   \n",
       "96           9    21           dvlp_search   \n",
       "97          10    22            ecom.space   \n",
       "98          11    24        lb3enterprises   \n",
       "99          12    25          palmariusdev   \n",
       "\n",
       "                                              Caption  Followers  \\\n",
       "0   Who are #DataScientist and what do they do? >>...       1600   \n",
       "1   We all know where it’s going. We just have to ...        880   \n",
       "2   Alexander Barinov: 4 years as CFO in multinati...        255   \n",
       "3                                                sfad        340   \n",
       "4   Ever missed a call while your phone was chargi...        304   \n",
       "..                                                ...        ...   \n",
       "95  328 S. Wetherly Drive, Beverly Hills, CA 90212...        614   \n",
       "96  Credit @tristankappel To find more dvlp follow...        450   \n",
       "97  We are coming up with the Best 21 Books that w...        182   \n",
       "98  We’re only paid to move dirt once. It’s not ju...       2039   \n",
       "99                    Obtén tu tienda en línea ahora.        741   \n",
       "\n",
       "                                             Hashtags Time since posted  Likes  \n",
       "0   #MachineLearning #AI #DataAnalytics #DataScien...          11 hours    139  \n",
       "1    #deck .#mac #macintosh#sayhello #apple #steve...           2 hours     23  \n",
       "2   #whoiswho #aitrading #ai #aitradingteam#instat...           2 hours     25  \n",
       "3   #iot #cre#workplace #CDO #bigdata #technology#...           3 hours     49  \n",
       "4   #instamachinelearning #instabigdata#instamarke...           3 hours     30  \n",
       "..                                                ...               ...    ...  \n",
       "95  #beverlyhills #realestate#losangelesrealestate...           3 hours     31  \n",
       "96  #workspace #work #developer#development #devel...           3 hours     42  \n",
       "97  #books #book #motivation #inspiration #life#bo...           3 hours     10  \n",
       "98  #heavyequipment #underconstruction#dozer #real...           3 hours    222  \n",
       "99  #marketing #programming#development #desarroll...           3 hours    109  \n",
       "\n",
       "[100 rows x 8 columns]"
      ]
     },
     "execution_count": 3,
     "metadata": {},
     "output_type": "execute_result"
    }
   ],
   "source": [
    "df"
   ]
  },
  {
   "cell_type": "code",
   "execution_count": 4,
   "id": "16eaaf58",
   "metadata": {
    "execution": {
     "iopub.execute_input": "2023-06-04T06:52:42.187195Z",
     "iopub.status.busy": "2023-06-04T06:52:42.186173Z",
     "iopub.status.idle": "2023-06-04T06:52:42.210117Z",
     "shell.execute_reply": "2023-06-04T06:52:42.208787Z"
    },
    "papermill": {
     "duration": 0.03541,
     "end_time": "2023-06-04T06:52:42.212746",
     "exception": false,
     "start_time": "2023-06-04T06:52:42.177336",
     "status": "completed"
    },
    "tags": []
   },
   "outputs": [
    {
     "name": "stdout",
     "output_type": "stream",
     "text": [
      "<class 'pandas.core.frame.DataFrame'>\n",
      "RangeIndex: 100 entries, 0 to 99\n",
      "Data columns (total 8 columns):\n",
      " #   Column             Non-Null Count  Dtype \n",
      "---  ------             --------------  ----- \n",
      " 0   Unnamed: 0         100 non-null    int64 \n",
      " 1   S.No               100 non-null    int64 \n",
      " 2   USERNAME           100 non-null    object\n",
      " 3   Caption            94 non-null     object\n",
      " 4   Followers          100 non-null    int64 \n",
      " 5   Hashtags           100 non-null    object\n",
      " 6   Time since posted  100 non-null    object\n",
      " 7   Likes              100 non-null    int64 \n",
      "dtypes: int64(4), object(4)\n",
      "memory usage: 6.4+ KB\n"
     ]
    }
   ],
   "source": [
    "df.info()"
   ]
  },
  {
   "cell_type": "code",
   "execution_count": 5,
   "id": "1127dd6b",
   "metadata": {
    "execution": {
     "iopub.execute_input": "2023-06-04T06:52:42.231708Z",
     "iopub.status.busy": "2023-06-04T06:52:42.231329Z",
     "iopub.status.idle": "2023-06-04T06:52:42.240194Z",
     "shell.execute_reply": "2023-06-04T06:52:42.239389Z"
    },
    "papermill": {
     "duration": 0.020475,
     "end_time": "2023-06-04T06:52:42.242404",
     "exception": false,
     "start_time": "2023-06-04T06:52:42.221929",
     "status": "completed"
    },
    "tags": []
   },
   "outputs": [
    {
     "data": {
      "text/plain": [
       "Unnamed: 0           0\n",
       "S.No                 0\n",
       "USERNAME             0\n",
       "Caption              6\n",
       "Followers            0\n",
       "Hashtags             0\n",
       "Time since posted    0\n",
       "Likes                0\n",
       "dtype: int64"
      ]
     },
     "execution_count": 5,
     "metadata": {},
     "output_type": "execute_result"
    }
   ],
   "source": [
    "df.isna().sum()"
   ]
  },
  {
   "cell_type": "code",
   "execution_count": 6,
   "id": "781d8462",
   "metadata": {
    "execution": {
     "iopub.execute_input": "2023-06-04T06:52:42.260059Z",
     "iopub.status.busy": "2023-06-04T06:52:42.259340Z",
     "iopub.status.idle": "2023-06-04T06:52:42.265623Z",
     "shell.execute_reply": "2023-06-04T06:52:42.264614Z"
    },
    "papermill": {
     "duration": 0.017512,
     "end_time": "2023-06-04T06:52:42.267669",
     "exception": false,
     "start_time": "2023-06-04T06:52:42.250157",
     "status": "completed"
    },
    "tags": []
   },
   "outputs": [
    {
     "data": {
      "text/plain": [
       "Index(['Unnamed: 0', 'S.No', 'USERNAME', 'Caption', 'Followers', 'Hashtags',\n",
       "       'Time since posted', 'Likes'],\n",
       "      dtype='object')"
      ]
     },
     "execution_count": 6,
     "metadata": {},
     "output_type": "execute_result"
    }
   ],
   "source": [
    "df.columns"
   ]
  },
  {
   "cell_type": "code",
   "execution_count": 7,
   "id": "14e48f98",
   "metadata": {
    "execution": {
     "iopub.execute_input": "2023-06-04T06:52:42.285481Z",
     "iopub.status.busy": "2023-06-04T06:52:42.284732Z",
     "iopub.status.idle": "2023-06-04T06:52:42.290670Z",
     "shell.execute_reply": "2023-06-04T06:52:42.289480Z"
    },
    "papermill": {
     "duration": 0.01762,
     "end_time": "2023-06-04T06:52:42.293084",
     "exception": false,
     "start_time": "2023-06-04T06:52:42.275464",
     "status": "completed"
    },
    "tags": []
   },
   "outputs": [],
   "source": [
    "# dropping useless column\n",
    "df = df.drop(['Unnamed: 0', 'S.No'],axis= 1)"
   ]
  },
  {
   "cell_type": "code",
   "execution_count": 8,
   "id": "d7f31e48",
   "metadata": {
    "execution": {
     "iopub.execute_input": "2023-06-04T06:52:42.310858Z",
     "iopub.status.busy": "2023-06-04T06:52:42.310463Z",
     "iopub.status.idle": "2023-06-04T06:52:42.317525Z",
     "shell.execute_reply": "2023-06-04T06:52:42.316646Z"
    },
    "papermill": {
     "duration": 0.018515,
     "end_time": "2023-06-04T06:52:42.319630",
     "exception": false,
     "start_time": "2023-06-04T06:52:42.301115",
     "status": "completed"
    },
    "tags": []
   },
   "outputs": [
    {
     "data": {
      "text/plain": [
       "Index(['USERNAME', 'Caption', 'Followers', 'Hashtags', 'Time since posted',\n",
       "       'Likes'],\n",
       "      dtype='object')"
      ]
     },
     "execution_count": 8,
     "metadata": {},
     "output_type": "execute_result"
    }
   ],
   "source": [
    "df.columns"
   ]
  },
  {
   "cell_type": "code",
   "execution_count": 9,
   "id": "b0f2f97a",
   "metadata": {
    "execution": {
     "iopub.execute_input": "2023-06-04T06:52:42.337565Z",
     "iopub.status.busy": "2023-06-04T06:52:42.336909Z",
     "iopub.status.idle": "2023-06-04T06:52:42.342813Z",
     "shell.execute_reply": "2023-06-04T06:52:42.341997Z"
    },
    "papermill": {
     "duration": 0.01748,
     "end_time": "2023-06-04T06:52:42.345020",
     "exception": false,
     "start_time": "2023-06-04T06:52:42.327540",
     "status": "completed"
    },
    "tags": []
   },
   "outputs": [],
   "source": [
    "X = df[['USERNAME', 'Caption', 'Followers', 'Hashtags']]\n",
    "y_like = df['Likes']\n",
    "y_time = df['Time since posted']\n"
   ]
  },
  {
   "cell_type": "code",
   "execution_count": 10,
   "id": "bd8aa40c",
   "metadata": {
    "execution": {
     "iopub.execute_input": "2023-06-04T06:52:42.362940Z",
     "iopub.status.busy": "2023-06-04T06:52:42.362496Z",
     "iopub.status.idle": "2023-06-04T06:52:43.784404Z",
     "shell.execute_reply": "2023-06-04T06:52:43.783200Z"
    },
    "papermill": {
     "duration": 1.435366,
     "end_time": "2023-06-04T06:52:43.788372",
     "exception": false,
     "start_time": "2023-06-04T06:52:42.353006",
     "status": "completed"
    },
    "tags": []
   },
   "outputs": [],
   "source": [
    "from sklearn.model_selection import train_test_split\n",
    "X_train, X_test, Y_like_train, Y_like_test, Y_time_train, Y_time_test = train_test_split(X,y_like,y_time,random_state=21,test_size=0.2)"
   ]
  },
  {
   "cell_type": "code",
   "execution_count": 11,
   "id": "6a8517aa",
   "metadata": {
    "execution": {
     "iopub.execute_input": "2023-06-04T06:52:43.812280Z",
     "iopub.status.busy": "2023-06-04T06:52:43.811539Z",
     "iopub.status.idle": "2023-06-04T06:52:43.819584Z",
     "shell.execute_reply": "2023-06-04T06:52:43.818139Z"
    },
    "papermill": {
     "duration": 0.022424,
     "end_time": "2023-06-04T06:52:43.822027",
     "exception": false,
     "start_time": "2023-06-04T06:52:43.799603",
     "status": "completed"
    },
    "tags": []
   },
   "outputs": [
    {
     "name": "stdout",
     "output_type": "stream",
     "text": [
      "X_train shape = (80, 4)\n",
      "X_test shape = (20, 4)\n",
      "Y_like_train shape = (80,)\n",
      "Y_like_test shape = (20,)\n",
      "Y_time_train shape = (80,)\n",
      "Y_time_test shape = (20,)\n"
     ]
    }
   ],
   "source": [
    "print(f\"X_train shape = {X_train.shape}\")\n",
    "print(f\"X_test shape = {X_test.shape}\")\n",
    "print(f\"Y_like_train shape = {Y_like_train.shape}\")\n",
    "print(f\"Y_like_test shape = {Y_like_test.shape}\")\n",
    "print(f\"Y_time_train shape = {Y_time_train.shape}\")\n",
    "print(f\"Y_time_test shape = {Y_time_test.shape}\")"
   ]
  },
  {
   "cell_type": "code",
   "execution_count": 12,
   "id": "4438d745",
   "metadata": {
    "execution": {
     "iopub.execute_input": "2023-06-04T06:52:43.841159Z",
     "iopub.status.busy": "2023-06-04T06:52:43.840745Z",
     "iopub.status.idle": "2023-06-04T06:52:43.852376Z",
     "shell.execute_reply": "2023-06-04T06:52:43.851326Z"
    },
    "papermill": {
     "duration": 0.024317,
     "end_time": "2023-06-04T06:52:43.854853",
     "exception": false,
     "start_time": "2023-06-04T06:52:43.830536",
     "status": "completed"
    },
    "tags": []
   },
   "outputs": [],
   "source": [
    "from sklearn.preprocessing import LabelEncoder\n",
    "\n",
    "# Create an instance of LabelEncoder\n",
    "label_encoder = LabelEncoder()\n",
    "\n",
    "# Fit and transform the categorical variables\n",
    "X_train_encoded = X_train.copy()\n",
    "X_test_encoded = X_test.copy()\n",
    "\n",
    "\n",
    "for col in X_train.columns:\n",
    "    X_train_encoded[col] = label_encoder.fit_transform(X_train[col])\n",
    "    \n",
    "\n",
    "for col in X_test.columns:\n",
    "    X_test_encoded[col] = label_encoder.fit_transform(X_test[col])"
   ]
  },
  {
   "cell_type": "code",
   "execution_count": 13,
   "id": "a882296c",
   "metadata": {
    "execution": {
     "iopub.execute_input": "2023-06-04T06:52:43.873938Z",
     "iopub.status.busy": "2023-06-04T06:52:43.873112Z",
     "iopub.status.idle": "2023-06-04T06:52:43.980189Z",
     "shell.execute_reply": "2023-06-04T06:52:43.979336Z"
    },
    "papermill": {
     "duration": 0.119692,
     "end_time": "2023-06-04T06:52:43.983072",
     "exception": false,
     "start_time": "2023-06-04T06:52:43.863380",
     "status": "completed"
    },
    "tags": []
   },
   "outputs": [],
   "source": [
    "from sklearn.linear_model import LinearRegression\n",
    "from sklearn.metrics import mean_squared_error,r2_score\n",
    "\n",
    "\n"
   ]
  },
  {
   "cell_type": "code",
   "execution_count": 14,
   "id": "4db3b759",
   "metadata": {
    "execution": {
     "iopub.execute_input": "2023-06-04T06:52:44.001992Z",
     "iopub.status.busy": "2023-06-04T06:52:44.001346Z",
     "iopub.status.idle": "2023-06-04T06:52:44.032966Z",
     "shell.execute_reply": "2023-06-04T06:52:44.031295Z"
    },
    "papermill": {
     "duration": 0.044456,
     "end_time": "2023-06-04T06:52:44.035990",
     "exception": false,
     "start_time": "2023-06-04T06:52:43.991534",
     "status": "completed"
    },
    "tags": []
   },
   "outputs": [
    {
     "name": "stdout",
     "output_type": "stream",
     "text": [
      "Mean Squared Error (MSE): 6809.062884267752\n",
      "Root Mean Squared Error (RMSE): 82.51704602242953\n",
      "R-squared (R²): -0.9056777657870472\n"
     ]
    }
   ],
   "source": [
    "# For Likes prediction\n",
    "lr = LinearRegression()\n",
    "lr.fit(X_train_encoded, Y_like_train)\n",
    "likes_predictions = lr.predict(X_test_encoded)\n",
    "\n",
    "mse = mean_squared_error(Y_like_test, likes_predictions)\n",
    "rmse = np.sqrt(mse)\n",
    "r2 = r2_score(Y_like_test, likes_predictions)\n",
    "\n",
    "print(\"Mean Squared Error (MSE):\", mse)\n",
    "print(\"Root Mean Squared Error (RMSE):\", rmse)\n",
    "print(\"R-squared (R²):\", r2)\n"
   ]
  },
  {
   "cell_type": "code",
   "execution_count": 15,
   "id": "064096ee",
   "metadata": {
    "execution": {
     "iopub.execute_input": "2023-06-04T06:52:44.058076Z",
     "iopub.status.busy": "2023-06-04T06:52:44.057404Z",
     "iopub.status.idle": "2023-06-04T06:52:44.066412Z",
     "shell.execute_reply": "2023-06-04T06:52:44.065015Z"
    },
    "papermill": {
     "duration": 0.021258,
     "end_time": "2023-06-04T06:52:44.068680",
     "exception": false,
     "start_time": "2023-06-04T06:52:44.047422",
     "status": "completed"
    },
    "tags": []
   },
   "outputs": [
    {
     "name": "stdout",
     "output_type": "stream",
     "text": [
      "Mean Squared Error (MSE): 6809.062884267752\n",
      "Root Mean Squared Error (RMSE): 82.51704602242953\n",
      "R-squared (R²): -0.9056777657870472\n"
     ]
    }
   ],
   "source": [
    "from sklearn.metrics import mean_squared_error, r2_score\n",
    "from sklearn.model_selection import train_test_split\n",
    "\n",
    "mse = mean_squared_error(Y_like_test, likes_predictions)\n",
    "rmse = np.sqrt(mse)\n",
    "r2 = r2_score(Y_like_test, likes_predictions)\n",
    "\n",
    "print(\"Mean Squared Error (MSE):\", mse)\n",
    "print(\"Root Mean Squared Error (RMSE):\", rmse)\n",
    "print(\"R-squared (R²):\", r2)\n"
   ]
  },
  {
   "cell_type": "markdown",
   "id": "f9b349de",
   "metadata": {
    "papermill": {
     "duration": 0.007871,
     "end_time": "2023-06-04T06:52:44.085043",
     "exception": false,
     "start_time": "2023-06-04T06:52:44.077172",
     "status": "completed"
    },
    "tags": []
   },
   "source": [
    "# Time Since Posted Prediction"
   ]
  },
  {
   "cell_type": "code",
   "execution_count": 16,
   "id": "7b8901d1",
   "metadata": {
    "execution": {
     "iopub.execute_input": "2023-06-04T06:52:44.103399Z",
     "iopub.status.busy": "2023-06-04T06:52:44.102968Z",
     "iopub.status.idle": "2023-06-04T06:52:44.109962Z",
     "shell.execute_reply": "2023-06-04T06:52:44.109138Z"
    },
    "papermill": {
     "duration": 0.018909,
     "end_time": "2023-06-04T06:52:44.112175",
     "exception": false,
     "start_time": "2023-06-04T06:52:44.093266",
     "status": "completed"
    },
    "tags": []
   },
   "outputs": [],
   "source": [
    "# Extract the numeric value from the 'time' column\n",
    "Y_time_train = Y_time_train.str.extract('(\\d+)', expand=False).astype(int)\n",
    "Y_time_test = Y_time_test.str.extract('(\\d+)', expand=False).astype(int)\n",
    "\n",
    "# print(Y_time_train)\n",
    "# print(Y_time_test)\n"
   ]
  },
  {
   "cell_type": "code",
   "execution_count": 17,
   "id": "c2d40164",
   "metadata": {
    "execution": {
     "iopub.execute_input": "2023-06-04T06:52:44.130749Z",
     "iopub.status.busy": "2023-06-04T06:52:44.130097Z",
     "iopub.status.idle": "2023-06-04T06:52:44.142669Z",
     "shell.execute_reply": "2023-06-04T06:52:44.141535Z"
    },
    "papermill": {
     "duration": 0.024452,
     "end_time": "2023-06-04T06:52:44.144855",
     "exception": false,
     "start_time": "2023-06-04T06:52:44.120403",
     "status": "completed"
    },
    "tags": []
   },
   "outputs": [
    {
     "name": "stdout",
     "output_type": "stream",
     "text": [
      "Mean Squared Error (MSE): 20.800068621629787\n",
      "Root Mean Squared Error (RMSE): 4.560709223534185\n",
      "R-squared (R²): -0.7485752673511119\n"
     ]
    }
   ],
   "source": [
    "lr = LinearRegression()\n",
    "lr.fit(X_train_encoded, Y_time_train)\n",
    "posted_time_prediction = lr.predict(X_test_encoded)\n",
    "\n",
    "mse = mean_squared_error(Y_time_test, posted_time_prediction)\n",
    "rmse = np.sqrt(mse)\n",
    "r2 = r2_score(Y_like_test, posted_time_prediction)\n",
    "\n",
    "print(\"Mean Squared Error (MSE):\", mse)\n",
    "print(\"Root Mean Squared Error (RMSE):\", rmse)\n",
    "print(\"R-squared (R²):\", r2)"
   ]
  },
  {
   "cell_type": "code",
   "execution_count": null,
   "id": "9c3b78b4",
   "metadata": {
    "papermill": {
     "duration": 0.008112,
     "end_time": "2023-06-04T06:52:44.161184",
     "exception": false,
     "start_time": "2023-06-04T06:52:44.153072",
     "status": "completed"
    },
    "tags": []
   },
   "outputs": [],
   "source": []
  },
  {
   "cell_type": "code",
   "execution_count": null,
   "id": "243c0162",
   "metadata": {
    "papermill": {
     "duration": 0.007938,
     "end_time": "2023-06-04T06:52:44.177259",
     "exception": false,
     "start_time": "2023-06-04T06:52:44.169321",
     "status": "completed"
    },
    "tags": []
   },
   "outputs": [],
   "source": []
  }
 ],
 "metadata": {
  "kernelspec": {
   "display_name": "Python 3",
   "language": "python",
   "name": "python3"
  },
  "language_info": {
   "codemirror_mode": {
    "name": "ipython",
    "version": 3
   },
   "file_extension": ".py",
   "mimetype": "text/x-python",
   "name": "python",
   "nbconvert_exporter": "python",
   "pygments_lexer": "ipython3",
   "version": "3.10.10"
  },
  "papermill": {
   "default_parameters": {},
   "duration": 15.068083,
   "end_time": "2023-06-04T06:52:45.107057",
   "environment_variables": {},
   "exception": null,
   "input_path": "__notebook__.ipynb",
   "output_path": "__notebook__.ipynb",
   "parameters": {},
   "start_time": "2023-06-04T06:52:30.038974",
   "version": "2.4.0"
  }
 },
 "nbformat": 4,
 "nbformat_minor": 5
}
