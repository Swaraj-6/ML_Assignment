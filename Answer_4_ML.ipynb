{
 "cells": [
  {
   "cell_type": "code",
   "execution_count": 1,
   "id": "f5c004ba",
   "metadata": {
    "execution": {
     "iopub.execute_input": "2023-05-22T10:26:39.455336Z",
     "iopub.status.busy": "2023-05-22T10:26:39.454941Z",
     "iopub.status.idle": "2023-05-22T10:26:39.460791Z",
     "shell.execute_reply": "2023-05-22T10:26:39.459354Z"
    },
    "papermill": {
     "duration": 0.020147,
     "end_time": "2023-05-22T10:26:39.465645",
     "exception": false,
     "start_time": "2023-05-22T10:26:39.445498",
     "status": "completed"
    },
    "tags": []
   },
   "outputs": [],
   "source": [
    "## Comment\n",
    "## Observation"
   ]
  },
  {
   "cell_type": "code",
   "execution_count": 2,
   "id": "85245ba7",
   "metadata": {
    "execution": {
     "iopub.execute_input": "2023-05-22T10:26:39.482900Z",
     "iopub.status.busy": "2023-05-22T10:26:39.482497Z",
     "iopub.status.idle": "2023-05-22T10:26:41.151009Z",
     "shell.execute_reply": "2023-05-22T10:26:41.149862Z"
    },
    "papermill": {
     "duration": 1.681069,
     "end_time": "2023-05-22T10:26:41.153939",
     "exception": false,
     "start_time": "2023-05-22T10:26:39.472870",
     "status": "completed"
    },
    "tags": []
   },
   "outputs": [
    {
     "name": "stderr",
     "output_type": "stream",
     "text": [
      "/opt/conda/lib/python3.10/site-packages/scipy/__init__.py:146: UserWarning: A NumPy version >=1.16.5 and <1.23.0 is required for this version of SciPy (detected version 1.23.5\n",
      "  warnings.warn(f\"A NumPy version >={np_minversion} and <{np_maxversion}\"\n"
     ]
    }
   ],
   "source": [
    "## Import the necessary libraries:-\n",
    "import pandas as pd\n",
    "from sklearn.model_selection import train_test_split\n",
    "from sklearn.ensemble import RandomForestClassifier\n",
    "from sklearn.metrics import accuracy_score, confusion_matrix\n"
   ]
  },
  {
   "cell_type": "code",
   "execution_count": 3,
   "id": "8293c3b4",
   "metadata": {
    "execution": {
     "iopub.execute_input": "2023-05-22T10:26:41.170003Z",
     "iopub.status.busy": "2023-05-22T10:26:41.169113Z",
     "iopub.status.idle": "2023-05-22T10:26:41.258038Z",
     "shell.execute_reply": "2023-05-22T10:26:41.256687Z"
    },
    "papermill": {
     "duration": 0.100123,
     "end_time": "2023-05-22T10:26:41.261045",
     "exception": false,
     "start_time": "2023-05-22T10:26:41.160922",
     "status": "completed"
    },
    "tags": []
   },
   "outputs": [],
   "source": [
    "# Load the dataset\n",
    "data = pd.read_csv('/kaggle/input/online-shoppers-intention/online_shoppers_intention.csv')\n"
   ]
  },
  {
   "cell_type": "code",
   "execution_count": 4,
   "id": "d30d81ff",
   "metadata": {
    "execution": {
     "iopub.execute_input": "2023-05-22T10:26:41.276984Z",
     "iopub.status.busy": "2023-05-22T10:26:41.275987Z",
     "iopub.status.idle": "2023-05-22T10:26:41.316348Z",
     "shell.execute_reply": "2023-05-22T10:26:41.315473Z"
    },
    "papermill": {
     "duration": 0.050869,
     "end_time": "2023-05-22T10:26:41.318831",
     "exception": false,
     "start_time": "2023-05-22T10:26:41.267962",
     "status": "completed"
    },
    "tags": []
   },
   "outputs": [
    {
     "data": {
      "text/html": [
       "<div>\n",
       "<style scoped>\n",
       "    .dataframe tbody tr th:only-of-type {\n",
       "        vertical-align: middle;\n",
       "    }\n",
       "\n",
       "    .dataframe tbody tr th {\n",
       "        vertical-align: top;\n",
       "    }\n",
       "\n",
       "    .dataframe thead th {\n",
       "        text-align: right;\n",
       "    }\n",
       "</style>\n",
       "<table border=\"1\" class=\"dataframe\">\n",
       "  <thead>\n",
       "    <tr style=\"text-align: right;\">\n",
       "      <th></th>\n",
       "      <th>Administrative</th>\n",
       "      <th>Administrative_Duration</th>\n",
       "      <th>Informational</th>\n",
       "      <th>Informational_Duration</th>\n",
       "      <th>ProductRelated</th>\n",
       "      <th>ProductRelated_Duration</th>\n",
       "      <th>BounceRates</th>\n",
       "      <th>ExitRates</th>\n",
       "      <th>PageValues</th>\n",
       "      <th>SpecialDay</th>\n",
       "      <th>Month</th>\n",
       "      <th>OperatingSystems</th>\n",
       "      <th>Browser</th>\n",
       "      <th>Region</th>\n",
       "      <th>TrafficType</th>\n",
       "      <th>VisitorType</th>\n",
       "      <th>Weekend</th>\n",
       "      <th>Revenue</th>\n",
       "    </tr>\n",
       "  </thead>\n",
       "  <tbody>\n",
       "    <tr>\n",
       "      <th>0</th>\n",
       "      <td>0</td>\n",
       "      <td>0.0</td>\n",
       "      <td>0</td>\n",
       "      <td>0.0</td>\n",
       "      <td>1</td>\n",
       "      <td>0.000000</td>\n",
       "      <td>0.20</td>\n",
       "      <td>0.20</td>\n",
       "      <td>0.0</td>\n",
       "      <td>0.0</td>\n",
       "      <td>Feb</td>\n",
       "      <td>1</td>\n",
       "      <td>1</td>\n",
       "      <td>1</td>\n",
       "      <td>1</td>\n",
       "      <td>Returning_Visitor</td>\n",
       "      <td>False</td>\n",
       "      <td>False</td>\n",
       "    </tr>\n",
       "    <tr>\n",
       "      <th>1</th>\n",
       "      <td>0</td>\n",
       "      <td>0.0</td>\n",
       "      <td>0</td>\n",
       "      <td>0.0</td>\n",
       "      <td>2</td>\n",
       "      <td>64.000000</td>\n",
       "      <td>0.00</td>\n",
       "      <td>0.10</td>\n",
       "      <td>0.0</td>\n",
       "      <td>0.0</td>\n",
       "      <td>Feb</td>\n",
       "      <td>2</td>\n",
       "      <td>2</td>\n",
       "      <td>1</td>\n",
       "      <td>2</td>\n",
       "      <td>Returning_Visitor</td>\n",
       "      <td>False</td>\n",
       "      <td>False</td>\n",
       "    </tr>\n",
       "    <tr>\n",
       "      <th>2</th>\n",
       "      <td>0</td>\n",
       "      <td>0.0</td>\n",
       "      <td>0</td>\n",
       "      <td>0.0</td>\n",
       "      <td>1</td>\n",
       "      <td>0.000000</td>\n",
       "      <td>0.20</td>\n",
       "      <td>0.20</td>\n",
       "      <td>0.0</td>\n",
       "      <td>0.0</td>\n",
       "      <td>Feb</td>\n",
       "      <td>4</td>\n",
       "      <td>1</td>\n",
       "      <td>9</td>\n",
       "      <td>3</td>\n",
       "      <td>Returning_Visitor</td>\n",
       "      <td>False</td>\n",
       "      <td>False</td>\n",
       "    </tr>\n",
       "    <tr>\n",
       "      <th>3</th>\n",
       "      <td>0</td>\n",
       "      <td>0.0</td>\n",
       "      <td>0</td>\n",
       "      <td>0.0</td>\n",
       "      <td>2</td>\n",
       "      <td>2.666667</td>\n",
       "      <td>0.05</td>\n",
       "      <td>0.14</td>\n",
       "      <td>0.0</td>\n",
       "      <td>0.0</td>\n",
       "      <td>Feb</td>\n",
       "      <td>3</td>\n",
       "      <td>2</td>\n",
       "      <td>2</td>\n",
       "      <td>4</td>\n",
       "      <td>Returning_Visitor</td>\n",
       "      <td>False</td>\n",
       "      <td>False</td>\n",
       "    </tr>\n",
       "    <tr>\n",
       "      <th>4</th>\n",
       "      <td>0</td>\n",
       "      <td>0.0</td>\n",
       "      <td>0</td>\n",
       "      <td>0.0</td>\n",
       "      <td>10</td>\n",
       "      <td>627.500000</td>\n",
       "      <td>0.02</td>\n",
       "      <td>0.05</td>\n",
       "      <td>0.0</td>\n",
       "      <td>0.0</td>\n",
       "      <td>Feb</td>\n",
       "      <td>3</td>\n",
       "      <td>3</td>\n",
       "      <td>1</td>\n",
       "      <td>4</td>\n",
       "      <td>Returning_Visitor</td>\n",
       "      <td>True</td>\n",
       "      <td>False</td>\n",
       "    </tr>\n",
       "  </tbody>\n",
       "</table>\n",
       "</div>"
      ],
      "text/plain": [
       "   Administrative  Administrative_Duration  Informational  \\\n",
       "0               0                      0.0              0   \n",
       "1               0                      0.0              0   \n",
       "2               0                      0.0              0   \n",
       "3               0                      0.0              0   \n",
       "4               0                      0.0              0   \n",
       "\n",
       "   Informational_Duration  ProductRelated  ProductRelated_Duration  \\\n",
       "0                     0.0               1                 0.000000   \n",
       "1                     0.0               2                64.000000   \n",
       "2                     0.0               1                 0.000000   \n",
       "3                     0.0               2                 2.666667   \n",
       "4                     0.0              10               627.500000   \n",
       "\n",
       "   BounceRates  ExitRates  PageValues  SpecialDay Month  OperatingSystems  \\\n",
       "0         0.20       0.20         0.0         0.0   Feb                 1   \n",
       "1         0.00       0.10         0.0         0.0   Feb                 2   \n",
       "2         0.20       0.20         0.0         0.0   Feb                 4   \n",
       "3         0.05       0.14         0.0         0.0   Feb                 3   \n",
       "4         0.02       0.05         0.0         0.0   Feb                 3   \n",
       "\n",
       "   Browser  Region  TrafficType        VisitorType  Weekend  Revenue  \n",
       "0        1       1            1  Returning_Visitor    False    False  \n",
       "1        2       1            2  Returning_Visitor    False    False  \n",
       "2        1       9            3  Returning_Visitor    False    False  \n",
       "3        2       2            4  Returning_Visitor    False    False  \n",
       "4        3       1            4  Returning_Visitor     True    False  "
      ]
     },
     "execution_count": 4,
     "metadata": {},
     "output_type": "execute_result"
    }
   ],
   "source": [
    "# Check top 5 Rows\n",
    "data.head()"
   ]
  },
  {
   "cell_type": "code",
   "execution_count": 5,
   "id": "5ef3922d",
   "metadata": {
    "execution": {
     "iopub.execute_input": "2023-05-22T10:26:41.335394Z",
     "iopub.status.busy": "2023-05-22T10:26:41.334456Z",
     "iopub.status.idle": "2023-05-22T10:26:41.341098Z",
     "shell.execute_reply": "2023-05-22T10:26:41.340080Z"
    },
    "papermill": {
     "duration": 0.017175,
     "end_time": "2023-05-22T10:26:41.343210",
     "exception": false,
     "start_time": "2023-05-22T10:26:41.326035",
     "status": "completed"
    },
    "tags": []
   },
   "outputs": [
    {
     "data": {
      "text/plain": [
       "(12330, 18)"
      ]
     },
     "execution_count": 5,
     "metadata": {},
     "output_type": "execute_result"
    }
   ],
   "source": [
    "## Checking All Rows & Columns Available in Dataset \n",
    "data.shape"
   ]
  },
  {
   "cell_type": "code",
   "execution_count": 6,
   "id": "029b3b16",
   "metadata": {
    "execution": {
     "iopub.execute_input": "2023-05-22T10:26:41.360029Z",
     "iopub.status.busy": "2023-05-22T10:26:41.359254Z",
     "iopub.status.idle": "2023-05-22T10:26:41.392949Z",
     "shell.execute_reply": "2023-05-22T10:26:41.391683Z"
    },
    "papermill": {
     "duration": 0.045562,
     "end_time": "2023-05-22T10:26:41.396010",
     "exception": false,
     "start_time": "2023-05-22T10:26:41.350448",
     "status": "completed"
    },
    "tags": []
   },
   "outputs": [
    {
     "name": "stdout",
     "output_type": "stream",
     "text": [
      "<class 'pandas.core.frame.DataFrame'>\n",
      "RangeIndex: 12330 entries, 0 to 12329\n",
      "Data columns (total 18 columns):\n",
      " #   Column                   Non-Null Count  Dtype  \n",
      "---  ------                   --------------  -----  \n",
      " 0   Administrative           12330 non-null  int64  \n",
      " 1   Administrative_Duration  12330 non-null  float64\n",
      " 2   Informational            12330 non-null  int64  \n",
      " 3   Informational_Duration   12330 non-null  float64\n",
      " 4   ProductRelated           12330 non-null  int64  \n",
      " 5   ProductRelated_Duration  12330 non-null  float64\n",
      " 6   BounceRates              12330 non-null  float64\n",
      " 7   ExitRates                12330 non-null  float64\n",
      " 8   PageValues               12330 non-null  float64\n",
      " 9   SpecialDay               12330 non-null  float64\n",
      " 10  Month                    12330 non-null  object \n",
      " 11  OperatingSystems         12330 non-null  int64  \n",
      " 12  Browser                  12330 non-null  int64  \n",
      " 13  Region                   12330 non-null  int64  \n",
      " 14  TrafficType              12330 non-null  int64  \n",
      " 15  VisitorType              12330 non-null  object \n",
      " 16  Weekend                  12330 non-null  bool   \n",
      " 17  Revenue                  12330 non-null  bool   \n",
      "dtypes: bool(2), float64(7), int64(7), object(2)\n",
      "memory usage: 1.5+ MB\n"
     ]
    }
   ],
   "source": [
    "## Checking Information Related with Dataset\n",
    "data.info()"
   ]
  },
  {
   "cell_type": "code",
   "execution_count": 7,
   "id": "e042be14",
   "metadata": {
    "execution": {
     "iopub.execute_input": "2023-05-22T10:26:41.413188Z",
     "iopub.status.busy": "2023-05-22T10:26:41.412758Z",
     "iopub.status.idle": "2023-05-22T10:26:41.425996Z",
     "shell.execute_reply": "2023-05-22T10:26:41.424900Z"
    },
    "papermill": {
     "duration": 0.024679,
     "end_time": "2023-05-22T10:26:41.428590",
     "exception": false,
     "start_time": "2023-05-22T10:26:41.403911",
     "status": "completed"
    },
    "tags": []
   },
   "outputs": [],
   "source": [
    "# Convert target variable to categorical\n",
    "data['Revenue'] = data['Revenue'].astype(str)"
   ]
  },
  {
   "cell_type": "code",
   "execution_count": 8,
   "id": "0471f5a6",
   "metadata": {
    "execution": {
     "iopub.execute_input": "2023-05-22T10:26:41.446238Z",
     "iopub.status.busy": "2023-05-22T10:26:41.445112Z",
     "iopub.status.idle": "2023-05-22T10:26:41.454081Z",
     "shell.execute_reply": "2023-05-22T10:26:41.452936Z"
    },
    "papermill": {
     "duration": 0.020481,
     "end_time": "2023-05-22T10:26:41.456801",
     "exception": false,
     "start_time": "2023-05-22T10:26:41.436320",
     "status": "completed"
    },
    "tags": []
   },
   "outputs": [],
   "source": [
    "# Extract the relevant features for revenue prediction\n",
    "features = data.drop(['Revenue'], axis=1)"
   ]
  },
  {
   "cell_type": "code",
   "execution_count": 9,
   "id": "ca449a79",
   "metadata": {
    "execution": {
     "iopub.execute_input": "2023-05-22T10:26:41.474524Z",
     "iopub.status.busy": "2023-05-22T10:26:41.474049Z",
     "iopub.status.idle": "2023-05-22T10:26:41.479954Z",
     "shell.execute_reply": "2023-05-22T10:26:41.478754Z"
    },
    "papermill": {
     "duration": 0.017833,
     "end_time": "2023-05-22T10:26:41.482491",
     "exception": false,
     "start_time": "2023-05-22T10:26:41.464658",
     "status": "completed"
    },
    "tags": []
   },
   "outputs": [],
   "source": [
    "# Convert weekend column to numerical values (0 for False, 1 for True)\n",
    "features['Weekend'] = features['Weekend'].astype(int)"
   ]
  },
  {
   "cell_type": "code",
   "execution_count": 10,
   "id": "b7831000",
   "metadata": {
    "execution": {
     "iopub.execute_input": "2023-05-22T10:26:41.499280Z",
     "iopub.status.busy": "2023-05-22T10:26:41.498849Z",
     "iopub.status.idle": "2023-05-22T10:26:41.516844Z",
     "shell.execute_reply": "2023-05-22T10:26:41.515513Z"
    },
    "papermill": {
     "duration": 0.029216,
     "end_time": "2023-05-22T10:26:41.519198",
     "exception": false,
     "start_time": "2023-05-22T10:26:41.489982",
     "status": "completed"
    },
    "tags": []
   },
   "outputs": [],
   "source": [
    "# Convert informational duration column to numerical values (0 for False, 1 for True)\n",
    "features['Informational_Duration'] = features['Informational_Duration'].apply(lambda x: 1 if x > 0 else 0)"
   ]
  },
  {
   "cell_type": "code",
   "execution_count": 11,
   "id": "a9488e8d",
   "metadata": {
    "execution": {
     "iopub.execute_input": "2023-05-22T10:26:41.536284Z",
     "iopub.status.busy": "2023-05-22T10:26:41.535901Z",
     "iopub.status.idle": "2023-05-22T10:26:41.553165Z",
     "shell.execute_reply": "2023-05-22T10:26:41.552151Z"
    },
    "papermill": {
     "duration": 0.028651,
     "end_time": "2023-05-22T10:26:41.555687",
     "exception": false,
     "start_time": "2023-05-22T10:26:41.527036",
     "status": "completed"
    },
    "tags": []
   },
   "outputs": [],
   "source": [
    "# Encode categorical features using one-hot encoding\n",
    "features = pd.get_dummies(features)"
   ]
  },
  {
   "cell_type": "code",
   "execution_count": 12,
   "id": "fe788b5e",
   "metadata": {
    "execution": {
     "iopub.execute_input": "2023-05-22T10:26:41.573298Z",
     "iopub.status.busy": "2023-05-22T10:26:41.572879Z",
     "iopub.status.idle": "2023-05-22T10:26:41.577892Z",
     "shell.execute_reply": "2023-05-22T10:26:41.576784Z"
    },
    "papermill": {
     "duration": 0.016407,
     "end_time": "2023-05-22T10:26:41.580177",
     "exception": false,
     "start_time": "2023-05-22T10:26:41.563770",
     "status": "completed"
    },
    "tags": []
   },
   "outputs": [],
   "source": [
    "# Extract the target variable (Revenue)\n",
    "target = data['Revenue']\n"
   ]
  },
  {
   "cell_type": "code",
   "execution_count": 13,
   "id": "16543a9e",
   "metadata": {
    "execution": {
     "iopub.execute_input": "2023-05-22T10:26:41.597276Z",
     "iopub.status.busy": "2023-05-22T10:26:41.596591Z",
     "iopub.status.idle": "2023-05-22T10:26:41.608588Z",
     "shell.execute_reply": "2023-05-22T10:26:41.607466Z"
    },
    "papermill": {
     "duration": 0.023399,
     "end_time": "2023-05-22T10:26:41.611138",
     "exception": false,
     "start_time": "2023-05-22T10:26:41.587739",
     "status": "completed"
    },
    "tags": []
   },
   "outputs": [],
   "source": [
    "# Split the dataset into training and testing sets\n",
    "X_train, X_test, y_train, y_test = train_test_split(features, target, test_size=0.2, random_state=42)"
   ]
  },
  {
   "cell_type": "markdown",
   "id": "df957e14",
   "metadata": {
    "papermill": {
     "duration": 0.007088,
     "end_time": "2023-05-22T10:26:41.625700",
     "exception": false,
     "start_time": "2023-05-22T10:26:41.618612",
     "status": "completed"
    },
    "tags": []
   },
   "source": [
    "# Doing Model Building Using Random Forest Classifier"
   ]
  },
  {
   "cell_type": "code",
   "execution_count": 14,
   "id": "17fd2aad",
   "metadata": {
    "execution": {
     "iopub.execute_input": "2023-05-22T10:26:41.642799Z",
     "iopub.status.busy": "2023-05-22T10:26:41.642364Z",
     "iopub.status.idle": "2023-05-22T10:26:41.647520Z",
     "shell.execute_reply": "2023-05-22T10:26:41.646458Z"
    },
    "papermill": {
     "duration": 0.016444,
     "end_time": "2023-05-22T10:26:41.649918",
     "exception": false,
     "start_time": "2023-05-22T10:26:41.633474",
     "status": "completed"
    },
    "tags": []
   },
   "outputs": [],
   "source": [
    "# Create a Random Forest classifier\n",
    "rf_classifier = RandomForestClassifier(n_estimators=100, random_state=42)"
   ]
  },
  {
   "cell_type": "code",
   "execution_count": 15,
   "id": "12f5642c",
   "metadata": {
    "execution": {
     "iopub.execute_input": "2023-05-22T10:26:41.666881Z",
     "iopub.status.busy": "2023-05-22T10:26:41.666479Z",
     "iopub.status.idle": "2023-05-22T10:26:43.206907Z",
     "shell.execute_reply": "2023-05-22T10:26:43.205814Z"
    },
    "papermill": {
     "duration": 1.552243,
     "end_time": "2023-05-22T10:26:43.209801",
     "exception": false,
     "start_time": "2023-05-22T10:26:41.657558",
     "status": "completed"
    },
    "tags": []
   },
   "outputs": [
    {
     "data": {
      "text/html": [
       "<style>#sk-container-id-1 {color: black;background-color: white;}#sk-container-id-1 pre{padding: 0;}#sk-container-id-1 div.sk-toggleable {background-color: white;}#sk-container-id-1 label.sk-toggleable__label {cursor: pointer;display: block;width: 100%;margin-bottom: 0;padding: 0.3em;box-sizing: border-box;text-align: center;}#sk-container-id-1 label.sk-toggleable__label-arrow:before {content: \"▸\";float: left;margin-right: 0.25em;color: #696969;}#sk-container-id-1 label.sk-toggleable__label-arrow:hover:before {color: black;}#sk-container-id-1 div.sk-estimator:hover label.sk-toggleable__label-arrow:before {color: black;}#sk-container-id-1 div.sk-toggleable__content {max-height: 0;max-width: 0;overflow: hidden;text-align: left;background-color: #f0f8ff;}#sk-container-id-1 div.sk-toggleable__content pre {margin: 0.2em;color: black;border-radius: 0.25em;background-color: #f0f8ff;}#sk-container-id-1 input.sk-toggleable__control:checked~div.sk-toggleable__content {max-height: 200px;max-width: 100%;overflow: auto;}#sk-container-id-1 input.sk-toggleable__control:checked~label.sk-toggleable__label-arrow:before {content: \"▾\";}#sk-container-id-1 div.sk-estimator input.sk-toggleable__control:checked~label.sk-toggleable__label {background-color: #d4ebff;}#sk-container-id-1 div.sk-label input.sk-toggleable__control:checked~label.sk-toggleable__label {background-color: #d4ebff;}#sk-container-id-1 input.sk-hidden--visually {border: 0;clip: rect(1px 1px 1px 1px);clip: rect(1px, 1px, 1px, 1px);height: 1px;margin: -1px;overflow: hidden;padding: 0;position: absolute;width: 1px;}#sk-container-id-1 div.sk-estimator {font-family: monospace;background-color: #f0f8ff;border: 1px dotted black;border-radius: 0.25em;box-sizing: border-box;margin-bottom: 0.5em;}#sk-container-id-1 div.sk-estimator:hover {background-color: #d4ebff;}#sk-container-id-1 div.sk-parallel-item::after {content: \"\";width: 100%;border-bottom: 1px solid gray;flex-grow: 1;}#sk-container-id-1 div.sk-label:hover label.sk-toggleable__label {background-color: #d4ebff;}#sk-container-id-1 div.sk-serial::before {content: \"\";position: absolute;border-left: 1px solid gray;box-sizing: border-box;top: 0;bottom: 0;left: 50%;z-index: 0;}#sk-container-id-1 div.sk-serial {display: flex;flex-direction: column;align-items: center;background-color: white;padding-right: 0.2em;padding-left: 0.2em;position: relative;}#sk-container-id-1 div.sk-item {position: relative;z-index: 1;}#sk-container-id-1 div.sk-parallel {display: flex;align-items: stretch;justify-content: center;background-color: white;position: relative;}#sk-container-id-1 div.sk-item::before, #sk-container-id-1 div.sk-parallel-item::before {content: \"\";position: absolute;border-left: 1px solid gray;box-sizing: border-box;top: 0;bottom: 0;left: 50%;z-index: -1;}#sk-container-id-1 div.sk-parallel-item {display: flex;flex-direction: column;z-index: 1;position: relative;background-color: white;}#sk-container-id-1 div.sk-parallel-item:first-child::after {align-self: flex-end;width: 50%;}#sk-container-id-1 div.sk-parallel-item:last-child::after {align-self: flex-start;width: 50%;}#sk-container-id-1 div.sk-parallel-item:only-child::after {width: 0;}#sk-container-id-1 div.sk-dashed-wrapped {border: 1px dashed gray;margin: 0 0.4em 0.5em 0.4em;box-sizing: border-box;padding-bottom: 0.4em;background-color: white;}#sk-container-id-1 div.sk-label label {font-family: monospace;font-weight: bold;display: inline-block;line-height: 1.2em;}#sk-container-id-1 div.sk-label-container {text-align: center;}#sk-container-id-1 div.sk-container {/* jupyter's `normalize.less` sets `[hidden] { display: none; }` but bootstrap.min.css set `[hidden] { display: none !important; }` so we also need the `!important` here to be able to override the default hidden behavior on the sphinx rendered scikit-learn.org. See: https://github.com/scikit-learn/scikit-learn/issues/21755 */display: inline-block !important;position: relative;}#sk-container-id-1 div.sk-text-repr-fallback {display: none;}</style><div id=\"sk-container-id-1\" class=\"sk-top-container\"><div class=\"sk-text-repr-fallback\"><pre>RandomForestClassifier(random_state=42)</pre><b>In a Jupyter environment, please rerun this cell to show the HTML representation or trust the notebook. <br />On GitHub, the HTML representation is unable to render, please try loading this page with nbviewer.org.</b></div><div class=\"sk-container\" hidden><div class=\"sk-item\"><div class=\"sk-estimator sk-toggleable\"><input class=\"sk-toggleable__control sk-hidden--visually\" id=\"sk-estimator-id-1\" type=\"checkbox\" checked><label for=\"sk-estimator-id-1\" class=\"sk-toggleable__label sk-toggleable__label-arrow\">RandomForestClassifier</label><div class=\"sk-toggleable__content\"><pre>RandomForestClassifier(random_state=42)</pre></div></div></div></div></div>"
      ],
      "text/plain": [
       "RandomForestClassifier(random_state=42)"
      ]
     },
     "execution_count": 15,
     "metadata": {},
     "output_type": "execute_result"
    }
   ],
   "source": [
    "# Train the classifier\n",
    "rf_classifier.fit(X_train, y_train)"
   ]
  },
  {
   "cell_type": "code",
   "execution_count": 16,
   "id": "ddac5b32",
   "metadata": {
    "execution": {
     "iopub.execute_input": "2023-05-22T10:26:43.227327Z",
     "iopub.status.busy": "2023-05-22T10:26:43.226920Z",
     "iopub.status.idle": "2023-05-22T10:26:43.295302Z",
     "shell.execute_reply": "2023-05-22T10:26:43.294157Z"
    },
    "papermill": {
     "duration": 0.080179,
     "end_time": "2023-05-22T10:26:43.297862",
     "exception": false,
     "start_time": "2023-05-22T10:26:43.217683",
     "status": "completed"
    },
    "tags": []
   },
   "outputs": [],
   "source": [
    "# Predict the revenue on the test set\n",
    "y_pred = rf_classifier.predict(X_test)"
   ]
  },
  {
   "cell_type": "code",
   "execution_count": 17,
   "id": "37b7f575",
   "metadata": {
    "execution": {
     "iopub.execute_input": "2023-05-22T10:26:43.315155Z",
     "iopub.status.busy": "2023-05-22T10:26:43.314738Z",
     "iopub.status.idle": "2023-05-22T10:26:43.347268Z",
     "shell.execute_reply": "2023-05-22T10:26:43.346152Z"
    },
    "papermill": {
     "duration": 0.044487,
     "end_time": "2023-05-22T10:26:43.350072",
     "exception": false,
     "start_time": "2023-05-22T10:26:43.305585",
     "status": "completed"
    },
    "tags": []
   },
   "outputs": [],
   "source": [
    "# Calculate accuracy and confusion matrix\n",
    "accuracy = accuracy_score(y_test, y_pred)\n",
    "confusion = confusion_matrix(y_test, y_pred)"
   ]
  },
  {
   "cell_type": "code",
   "execution_count": 18,
   "id": "465e23d7",
   "metadata": {
    "execution": {
     "iopub.execute_input": "2023-05-22T10:26:43.368499Z",
     "iopub.status.busy": "2023-05-22T10:26:43.368040Z",
     "iopub.status.idle": "2023-05-22T10:26:43.374142Z",
     "shell.execute_reply": "2023-05-22T10:26:43.372919Z"
    },
    "papermill": {
     "duration": 0.017672,
     "end_time": "2023-05-22T10:26:43.376620",
     "exception": false,
     "start_time": "2023-05-22T10:26:43.358948",
     "status": "completed"
    },
    "tags": []
   },
   "outputs": [
    {
     "name": "stdout",
     "output_type": "stream",
     "text": [
      "Accuracy: 0.8961881589618816\n",
      "Confusion Matrix:\n",
      "[[1985   70]\n",
      " [ 186  225]]\n"
     ]
    }
   ],
   "source": [
    "# Print the accuracy and confusion matrix\n",
    "print(\"Accuracy:\", accuracy)\n",
    "print(\"Confusion Matrix:\")\n",
    "print(confusion)\n"
   ]
  },
  {
   "cell_type": "markdown",
   "id": "15da2c04",
   "metadata": {
    "papermill": {
     "duration": 0.007519,
     "end_time": "2023-05-22T10:26:43.393722",
     "exception": false,
     "start_time": "2023-05-22T10:26:43.386203",
     "status": "completed"
    },
    "tags": []
   },
   "source": [
    "# Thank You"
   ]
  }
 ],
 "metadata": {
  "kernelspec": {
   "display_name": "Python 3",
   "language": "python",
   "name": "python3"
  },
  "language_info": {
   "codemirror_mode": {
    "name": "ipython",
    "version": 3
   },
   "file_extension": ".py",
   "mimetype": "text/x-python",
   "name": "python",
   "nbconvert_exporter": "python",
   "pygments_lexer": "ipython3",
   "version": "3.10.10"
  },
  "papermill": {
   "default_parameters": {},
   "duration": 17.423706,
   "end_time": "2023-05-22T10:26:44.424958",
   "environment_variables": {},
   "exception": null,
   "input_path": "__notebook__.ipynb",
   "output_path": "__notebook__.ipynb",
   "parameters": {},
   "start_time": "2023-05-22T10:26:27.001252",
   "version": "2.4.0"
  }
 },
 "nbformat": 4,
 "nbformat_minor": 5
}
